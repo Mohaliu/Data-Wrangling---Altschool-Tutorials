{
 "cells": [
  {
   "cell_type": "markdown",
   "id": "f5a09ac0",
   "metadata": {},
   "source": [
    "The primary function of a function in Python is to execute a set of instrucitons along with some data and give an output at the end of executing the instructions. consider the pseudocode for a funtion that makes coffee. "
   ]
  },
  {
   "cell_type": "markdown",
   "id": "c6422fb3",
   "metadata": {},
   "source": [
    "- make_coffe(name of funciton)\n",
    "    - Ingredients: [Coffee, Water, Sugar] \n",
    "    - Steps: boil water\n",
    "            add coffee to boiling water in a cup\n",
    "            add sugar generously\n",
    "    - Output: Hot Coffee!"
   ]
  },
  {
   "cell_type": "markdown",
   "id": "80eb03d1",
   "metadata": {},
   "source": [
    "Now our (make_coffee) function in  Python..."
   ]
  },
  {
   "cell_type": "code",
   "execution_count": null,
   "id": "8fc0a833",
   "metadata": {},
   "outputs": [],
   "source": [
    "# buidling a function\n",
    "def make_coffee(coffee, water, sugar): # function header\n",
    "    '''\n",
    "    Takes any three arguments,\n",
    "    returns the hot solution in a cup.\n",
    "    '''\n",
    "    # boil water\n",
    "    # add coffee to boiling water in a cup\n",
    "    # add sugar generously\n",
    "    return f'Hot {coffee} + {water} + {sugar}'"
   ]
  },
  {
   "cell_type": "code",
   "execution_count": null,
   "id": "1e268fde",
   "metadata": {},
   "outputs": [],
   "source": [
    "# making a call to the function or using it \n",
    "make_coffee('Milo', 'water', 'Milk')"
   ]
  },
  {
   "cell_type": "code",
   "execution_count": null,
   "id": "70268969",
   "metadata": {},
   "outputs": [],
   "source": [
    "make_coffee('Nescafe', 'Eva', 'Honey')"
   ]
  },
  {
   "cell_type": "code",
   "execution_count": null,
   "id": "4bc642c3",
   "metadata": {},
   "outputs": [],
   "source": [
    "# buidling a function\n",
    "def make_coffee2(A, B, C):\n",
    "    # boil A\n",
    "    # add B to boiling A in a cup\n",
    "    # add C generously\n",
    "    return f'Hot {A} + {B} + {C}'   "
   ]
  },
  {
   "cell_type": "code",
   "execution_count": null,
   "id": "3e93ab52",
   "metadata": {},
   "outputs": [],
   "source": [
    "# giving the function a general name\n",
    "def make_beverage(A, B, C):\n",
    "    # boil A\n",
    "    # add B to boiling A in a cup\n",
    "    # add C generously\n",
    "    return f'Hot {A} + {B} + {C}'   "
   ]
  },
  {
   "cell_type": "code",
   "execution_count": null,
   "id": "c86c8984",
   "metadata": {},
   "outputs": [],
   "source": [
    "# buidling a function with a default arguments, if C is not specified it is sugar by default\n",
    "def make_coffee_opt(A, B, C='Sugar'):\n",
    "    # boil water\n",
    "    # add coffee to boiling water in a cup\n",
    "    # add sugar generously\n",
    "    return f'Hot {A} + {B} + {C}'   "
   ]
  },
  {
   "cell_type": "code",
   "execution_count": null,
   "id": "f0f4a612",
   "metadata": {},
   "outputs": [],
   "source": [
    "make_coffee_opt('Ovaltine', 'Water')"
   ]
  },
  {
   "cell_type": "markdown",
   "id": "c1d865cf",
   "metadata": {},
   "source": [
    "Blocks of code that calculates percentage of a number."
   ]
  },
  {
   "cell_type": "code",
   "execution_count": null,
   "id": "e1aacb38",
   "metadata": {},
   "outputs": [],
   "source": [
    "number = 10000\n",
    "perc = 20\n",
    "result = (perc / 100) * number\n",
    "print(result)"
   ]
  },
  {
   "cell_type": "markdown",
   "id": "903ea506",
   "metadata": {},
   "source": [
    "A Python function to calculate code and reuse as you wish."
   ]
  },
  {
   "cell_type": "code",
   "execution_count": null,
   "id": "61783e92",
   "metadata": {},
   "outputs": [],
   "source": [
    "def discount(amount, perc):\n",
    "    result = (perc / 100) * amount\n",
    "    return result"
   ]
  },
  {
   "cell_type": "code",
   "execution_count": null,
   "id": "a0bb1890",
   "metadata": {},
   "outputs": [],
   "source": [
    "cost = discount(5000, 46)\n",
    "print(cost)"
   ]
  },
  {
   "cell_type": "markdown",
   "id": "f0747230",
   "metadata": {},
   "source": [
    "The difference between a print and return statement in Python"
   ]
  },
  {
   "cell_type": "code",
   "execution_count": null,
   "id": "af7e6d15",
   "metadata": {},
   "outputs": [],
   "source": [
    "def discount_print(amount, perc):\n",
    "    result = (perc / 100) * amount\n",
    "    print(result)"
   ]
  },
  {
   "cell_type": "code",
   "execution_count": null,
   "id": "95d40f11",
   "metadata": {
    "scrolled": true
   },
   "outputs": [],
   "source": [
    "cost2 = discount_print(9000, 23)"
   ]
  },
  {
   "cell_type": "code",
   "execution_count": null,
   "id": "77efb4f2",
   "metadata": {},
   "outputs": [],
   "source": [
    "print(cost2)"
   ]
  },
  {
   "cell_type": "code",
   "execution_count": null,
   "id": "9471d763",
   "metadata": {},
   "outputs": [],
   "source": [
    "def calander(day):\n",
    "    days = ['Monday', 'Tuesday', 'Wednessday', 'Thursday', 'Friday', 'Saturday', 'Sunday']\n",
    "    event = ''\n",
    "    # Use a for loop to iterate over the elements in the list\n",
    "    for day in days:\n",
    "        # Check if the day is 'Wednesday' or 'Saturday'\n",
    "        if day == 'Wednessday' or day == 'Saturday':\n",
    "            event = 'Live Class!'\n",
    "        else:\n",
    "            event = 'No event'\n",
    "\n",
    "        # Print the day and the event for that day\n",
    "    return event"
   ]
  },
  {
   "cell_type": "code",
   "execution_count": null,
   "id": "13c4f54a",
   "metadata": {},
   "outputs": [],
   "source": [
    "calander('Monday')"
   ]
  },
  {
   "cell_type": "code",
   "execution_count": null,
   "id": "9493b08b",
   "metadata": {},
   "outputs": [],
   "source": [
    "def calander2(day):\n",
    "    event = ''\n",
    "    # Check if the day is 'Wednesday' or 'Saturday'\n",
    "    if day == 'Wednesday' or day == 'Saturday':\n",
    "        event = 'Live Class!'\n",
    "    else:\n",
    "        event = 'No event'\n",
    "\n",
    "    # return the event for that day\n",
    "    return event"
   ]
  },
  {
   "cell_type": "code",
   "execution_count": null,
   "id": "559c7fe0",
   "metadata": {},
   "outputs": [],
   "source": [
    "calander2('Atinofour')"
   ]
  },
  {
   "cell_type": "code",
   "execution_count": null,
   "id": "a394f930",
   "metadata": {},
   "outputs": [],
   "source": [
    "days = ['Monday', 'Tuesday', 'Wednessday', 'Thursday', 'Friday', 'Saturday', 'Sunday']"
   ]
  },
  {
   "cell_type": "code",
   "execution_count": null,
   "id": "95bb3bee",
   "metadata": {},
   "outputs": [],
   "source": [
    "def calander_v2(day):\n",
    "    event = ''\n",
    "    if day in days:\n",
    "        # Check if the day is 'Wednesday' or 'Saturday'\n",
    "        if day == 'Wednesday' or day == 'Saturday':\n",
    "            event = 'Live Class!'\n",
    "        else:\n",
    "            event = 'No event'\n",
    "    else:\n",
    "        event = 'Invalid Day'\n",
    "    # return the event for that day\n",
    "    return event"
   ]
  },
  {
   "cell_type": "code",
   "execution_count": null,
   "id": "2f11d74b",
   "metadata": {},
   "outputs": [],
   "source": [
    "calander_v2('Atinofour')"
   ]
  },
  {
   "cell_type": "code",
   "execution_count": null,
   "id": "efe5f5e4",
   "metadata": {},
   "outputs": [],
   "source": [
    "# function: variable scope\n",
    "# local: only available within the function \n",
    "# or global: can be accessed outside the function\n",
    "\n",
    "# Global variable\n",
    "days = ['Monday', 'Tuesday', 'Wednesday', 'Thursday', 'Friday', 'Saturday', 'Sunday']\n",
    "\n",
    "def calendar_global(day):\n",
    "    global event  # Using the global keyword to work with the global variable\n",
    "    if day in days:\n",
    "        if day == 'Wednesday' or day == 'Saturday':\n",
    "            event = 'Live Class!'\n",
    "        else:\n",
    "            event = 'No event'\n",
    "    else:\n",
    "        event = 'Invalid Day'\n",
    "    return event\n",
    "\n",
    "# Example usage:\n",
    "day = 'Wednesday'\n",
    "result = calendar_global(day)\n",
    "print(result)  # This will print 'Live Class!' for Wednesday\n"
   ]
  },
  {
   "cell_type": "code",
   "execution_count": null,
   "id": "bf5ae957",
   "metadata": {},
   "outputs": [],
   "source": [
    "calander_global('Saturday')"
   ]
  },
  {
   "cell_type": "markdown",
   "id": "a98f9c05",
   "metadata": {},
   "source": [
    "'event' is a variable local to the function, it was made global using the global keyword, we have access to it outside the function, and other parts of the notebook"
   ]
  },
  {
   "cell_type": "code",
   "execution_count": null,
   "id": "d976863d",
   "metadata": {},
   "outputs": [],
   "source": [
    "print(event)"
   ]
  },
  {
   "cell_type": "markdown",
   "id": "d6dc9250",
   "metadata": {},
   "source": [
    "We may build our function with the capacity to take an unknown number of arguments."
   ]
  },
  {
   "cell_type": "code",
   "execution_count": null,
   "id": "5aa47c03",
   "metadata": {},
   "outputs": [],
   "source": [
    "def multiple_args(*args):\n",
    "    return args"
   ]
  },
  {
   "cell_type": "code",
   "execution_count": null,
   "id": "e0a74174",
   "metadata": {},
   "outputs": [],
   "source": [
    "multiple_args([1, 2, 3, 4, 5])"
   ]
  },
  {
   "cell_type": "code",
   "execution_count": null,
   "id": "a1d61ce2",
   "metadata": {},
   "outputs": [],
   "source": [
    "type(multiple_args([1, 2, 3, 4, 5]))"
   ]
  },
  {
   "cell_type": "markdown",
   "id": "d88247c6",
   "metadata": {},
   "source": [
    "We may also take multiple keyword arguments"
   ]
  },
  {
   "cell_type": "code",
   "execution_count": null,
   "id": "85bb139e",
   "metadata": {},
   "outputs": [],
   "source": [
    "def print_contact_info(**kwargs):\n",
    "    if \"name\" in kwargs:\n",
    "        print(f\"Name: {kwargs['name']}\")\n",
    "    if \"email\" in kwargs:\n",
    "        print(f\"Email: {kwargs['email']}\")\n",
    "    if \"phone\" in kwargs:\n",
    "        print(f\"Phone: {kwargs['phone']}\")"
   ]
  },
  {
   "cell_type": "code",
   "execution_count": null,
   "id": "7bb22a18",
   "metadata": {},
   "outputs": [],
   "source": [
    "# Example usage:\n",
    "print_contact_info(name=\"Alice\", email=\"alice@example.com\", phone=\"555-555-5555\")"
   ]
  }
 ],
 "metadata": {
  "kernelspec": {
   "display_name": "Python 3 (ipykernel)",
   "language": "python",
   "name": "python3"
  },
  "language_info": {
   "codemirror_mode": {
    "name": "ipython",
    "version": 3
   },
   "file_extension": ".py",
   "mimetype": "text/x-python",
   "name": "python",
   "nbconvert_exporter": "python",
   "pygments_lexer": "ipython3",
   "version": "3.11.4"
  }
 },
 "nbformat": 4,
 "nbformat_minor": 5
}
