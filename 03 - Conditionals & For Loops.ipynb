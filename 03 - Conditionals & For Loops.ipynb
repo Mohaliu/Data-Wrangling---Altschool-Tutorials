{
 "cells": [
  {
   "cell_type": "markdown",
   "id": "90fe7afb",
   "metadata": {},
   "source": [
    "As you write Python code, you may require your program to make decisions based on certain conditions, to achieve that you will use an if-statement."
   ]
  },
  {
   "cell_type": "code",
   "execution_count": null,
   "id": "61997aa3",
   "metadata": {},
   "outputs": [],
   "source": [
    "# Conditonals\n",
    "# basic signature \n",
    "\n",
    "# if <expression>:\n",
    "    # do something"
   ]
  },
  {
   "cell_type": "code",
   "execution_count": null,
   "id": "2b167a24",
   "metadata": {},
   "outputs": [],
   "source": [
    "'''the expression will result in a boolean value, \n",
    "if the boolen value is True, then the block of code under the if statement is executed.'''\n",
    "if 9 > 3:\n",
    "    print('9 > 3')"
   ]
  },
  {
   "cell_type": "code",
   "execution_count": null,
   "id": "bc660531",
   "metadata": {},
   "outputs": [],
   "source": [
    "# an else statement provides the alternate decision to be taken whenever the 'if statement' evaluates as False\n",
    "if 9 < 3:\n",
    "    print('9 > 3')\n",
    "else:\n",
    "    print('9 is greater')"
   ]
  },
  {
   "cell_type": "code",
   "execution_count": null,
   "id": "7a2dc2dd",
   "metadata": {},
   "outputs": [],
   "source": [
    "# an elif statement is used when there are other conditions to consider, which is usually the case."
   ]
  },
  {
   "cell_type": "code",
   "execution_count": null,
   "id": "3dac1776",
   "metadata": {},
   "outputs": [],
   "source": [
    "# Prompt the user to enter a score as a floating-point number\n",
    "score = float(input('Enter your score: '))\n",
    "\n",
    "# Determine the grade based on the score\n",
    "if score >= 90 and score <= 100:\n",
    "    grade = 'A'\n",
    "elif score >= 80 and score <= 89:\n",
    "    grade = 'B'\n",
    "elif score >= 70 and score <= 79:\n",
    "    grade = 'C'\n",
    "elif score >= 60 and score <= 69:\n",
    "    grade = 'D'\n",
    "else:\n",
    "    # If the score is below 60, assign the grade 'F'\n",
    "    grade = 'F'\n",
    "\n",
    "# Print the calculated grade\n",
    "print(f\"Your grade is: {grade}\")"
   ]
  },
  {
   "cell_type": "markdown",
   "id": "ef7e74de",
   "metadata": {},
   "source": [
    "Nested conditionals, also known as nested if statements, are a programming construct used to create a series of conditional checks within other conditional statements. In nested conditionals, one or more if statements (or other conditional constructs like switch statements) are placed inside another if statement. This allows you to test multiple conditions, and the execution of code blocks depends on the evaluation of these conditions.\n",
    "\n",
    "Here's a basic example of nested conditionals in Python:"
   ]
  },
  {
   "cell_type": "code",
   "execution_count": null,
   "id": "07016b3a",
   "metadata": {},
   "outputs": [],
   "source": [
    "# nested conditonals\n",
    "age = float(input('Enter your age: '))\n",
    "vaccinated = input('Enter vaccination status (Y/N): ')\n",
    "\n",
    "if age < 5:\n",
    "    if vaccinated == 'N':\n",
    "        print('you are eligible')\n",
    "    elif vaccinated == 'Y':\n",
    "        print('you have been vaccinated')\n",
    "else:\n",
    "    print('you are above the age')"
   ]
  },
  {
   "cell_type": "code",
   "execution_count": null,
   "id": "aa677771",
   "metadata": {},
   "outputs": [],
   "source": [
    "# loops\n",
    "# for loops provide a means to iterate over a sequence\n",
    "\n",
    "# for {dynamic_var} in {iterable}:\n",
    "    # do something\n",
    "\n",
    "# Define a list of days of the week\n",
    "days = ['Monday', 'Tuesday', 'Wednessday', 'Thursday', 'Friday', 'Saturday', 'Sunday']\n",
    "\n",
    "# Use a for loop to iterate over the elements in the list\n",
    "for i in days:\n",
    "    # Print each day's name\n",
    "    print(i)"
   ]
  },
  {
   "cell_type": "markdown",
   "id": "1e36c741",
   "metadata": {},
   "source": [
    "When you run this code, it will loop through the days list, and for each day, it checks if the day is 'Wednesday' or 'Saturday'. Depending on the day, it sets the event variable, and then it prints both the day and the event for that day. The output will look something like this:"
   ]
  },
  {
   "cell_type": "code",
   "execution_count": null,
   "id": "c930b2d6",
   "metadata": {},
   "outputs": [],
   "source": [
    "# pairing with an if statement\n",
    "\n",
    "# Initialize the event variable\n",
    "event = ''\n",
    "\n",
    "# Use a for loop to iterate over the elements in the list\n",
    "for day in days:\n",
    "    # Check if the day is 'Wednesday' or 'Saturday'\n",
    "    if day == 'Wednessday' or day == 'Saturday':\n",
    "        event = 'Live Class!'\n",
    "    else:\n",
    "        event = 'No event'\n",
    "        \n",
    "    # Print the day and the event for that day\n",
    "    print(day, event)"
   ]
  },
  {
   "cell_type": "markdown",
   "id": "e630a286",
   "metadata": {},
   "source": [
    "When you run this code, it will loop through the days list, and for each day, it checks if the day is 'Wednesday' or 'Saturday'. Depending on the day, it sets the event variable, and then it prints both the day and the event for that day."
   ]
  },
  {
   "cell_type": "code",
   "execution_count": null,
   "id": "a7ab761b",
   "metadata": {},
   "outputs": [],
   "source": [
    "# using the break keyword\n",
    "# Use a for loop to iterate over the elements in the list\n",
    "for day in days:\n",
    "    # Check if the day is 'Wednesday'\n",
    "    if day == 'Wednesday':\n",
    "        # If it is, break out of the loop\n",
    "        break\n",
    "    \n",
    "    # Print the day as long as it's not 'Wednesday'\n",
    "    print(day)"
   ]
  },
  {
   "cell_type": "markdown",
   "id": "c9540d38",
   "metadata": {},
   "source": [
    "What happens when you use **pass, break or continue** within a for loop? "
   ]
  },
  {
   "cell_type": "code",
   "execution_count": null,
   "id": "52ea407e",
   "metadata": {},
   "outputs": [],
   "source": [
    "print(\"\\U0001f914\")"
   ]
  },
  {
   "cell_type": "code",
   "execution_count": null,
   "id": "8c387273",
   "metadata": {},
   "outputs": [],
   "source": [
    "# Initialize an empty list to store even numbers\n",
    "even = []\n",
    "\n",
    "# Use a for loop to iterate through numbers from 1 to 10\n",
    "for i in range(1, 11):\n",
    "    # Check if the current number is even\n",
    "    if i % 2 == 0:\n",
    "        # If it's even, append it to the 'even' list\n",
    "        even.append(i)\n",
    "\n",
    "# Print the list of even numbers\n",
    "print(even)"
   ]
  },
  {
   "cell_type": "code",
   "execution_count": null,
   "id": "76b4d9a8",
   "metadata": {},
   "outputs": [],
   "source": [
    "# Initialize a variable to store the sum of even numbers\n",
    "sum_even = 0\n",
    "\n",
    "# Use a for loop to iterate through numbers from 1 to 10\n",
    "for i in range(1, 11):\n",
    "    # Check if the current number is even\n",
    "    if i % 2 == 0:\n",
    "        # If it's even, add it to the 'sum_even' variable\n",
    "        sum_even += i\n",
    "\n",
    "# Print the sum of even numbers\n",
    "print(sum_even)"
   ]
  },
  {
   "cell_type": "code",
   "execution_count": null,
   "id": "4ddf4a4b",
   "metadata": {},
   "outputs": [],
   "source": [
    "# Iterate through the characters in the string 'Tobi'\n",
    "for i in 'Tobi':\n",
    "    # Print each character\n",
    "    print(i)"
   ]
  },
  {
   "cell_type": "code",
   "execution_count": null,
   "id": "d45eb0e6",
   "metadata": {},
   "outputs": [],
   "source": [
    "revenue = {'months':['jan', 'feb', 'mar', 'apr', 'may','jun', 'jul','aug', 'sept', 'oct','nov', 'dec'],\n",
    "          'monthly_sales': [120, 135, 150, 145, 155, 160, 170, 180, 190, 200, 210, 220]}"
   ]
  },
  {
   "cell_type": "code",
   "execution_count": null,
   "id": "0bfd8f5f",
   "metadata": {
    "scrolled": true
   },
   "outputs": [],
   "source": [
    "for month, sales in revenue.items():\n",
    "    print(month, sales)"
   ]
  },
  {
   "cell_type": "markdown",
   "id": "134019f4",
   "metadata": {},
   "source": [
    "The zip function can be used to pair the months and their corresponding sales values. "
   ]
  },
  {
   "cell_type": "code",
   "execution_count": null,
   "id": "60d6074e",
   "metadata": {
    "scrolled": true
   },
   "outputs": [],
   "source": [
    "for month, sales in zip(revenue['months'], revenue['monthly_sales']):\n",
    "    print(month.upper(), sales)"
   ]
  },
  {
   "cell_type": "markdown",
   "id": "6a777c1c",
   "metadata": {},
   "source": [
    "Looping over a pandas dataframe"
   ]
  },
  {
   "cell_type": "code",
   "execution_count": null,
   "id": "ecd885fe",
   "metadata": {},
   "outputs": [],
   "source": [
    "import pandas as pd\n",
    "df = pd.DataFrame(revenue)"
   ]
  },
  {
   "cell_type": "code",
   "execution_count": null,
   "id": "1e874f13",
   "metadata": {},
   "outputs": [],
   "source": [
    "df"
   ]
  },
  {
   "cell_type": "code",
   "execution_count": null,
   "id": "8ae5bd9f",
   "metadata": {},
   "outputs": [],
   "source": [
    "# Initialize an empty list to store the sales categories\n",
    "sale_categories = []\n",
    "\n",
    "# Iterate through the rows in the DataFrame 'df'\n",
    "for index, rows in df.iterrows():\n",
    "    # Extract the value in the 'monthly_sales' column for the current row\n",
    "    sales = rows['monthly_sales']\n",
    "\n",
    "    # Categorize the sales value into one of three categories: 'Low', 'Medium', or 'High'\n",
    "    if sales < 150:\n",
    "        category = 'Low'\n",
    "    elif sales < 170:\n",
    "        category = 'Medium'\n",
    "    else:\n",
    "        category = 'High'\n",
    "    \n",
    "    # Append the determined category to the 'sale_categories' list\n",
    "    sale_categories.append(category)\n",
    "\n",
    "# Add a new column called 'sales category' to the DataFrame 'df' and assign the sales categories to it\n",
    "df['sales category'] = sale_categories\n"
   ]
  },
  {
   "cell_type": "code",
   "execution_count": null,
   "id": "b8dd1f9a",
   "metadata": {},
   "outputs": [],
   "source": [
    "# sales categories is a series of High, low, Medium values corresponding to the sales in each month respectively.\n",
    "sale_categories"
   ]
  },
  {
   "cell_type": "code",
   "execution_count": null,
   "id": "87949b4a",
   "metadata": {},
   "outputs": [],
   "source": [
    "# the DataFrame object has a new column or feature\n",
    "df"
   ]
  },
  {
   "cell_type": "code",
   "execution_count": 4,
   "id": "6093b240",
   "metadata": {},
   "outputs": [
    {
     "name": "stdout",
     "output_type": "stream",
     "text": [
      "Sorry, we are not hiring for a data science role\n",
      "We are hiring for a product designer.\n",
      "We are hiring for a software development.\n",
      "We are hiring for a blockchain developer.\n",
      "\n",
      "Thank you for checking our job openings\n"
     ]
    }
   ],
   "source": [
    "job_openings = ['data scientist', 'product designer', 'software development', 'blockchain developer']\n",
    "\n",
    "for job_opening in job_openings:\n",
    "    if job_opening == 'data scientist':\n",
    "        print('Sorry, we are not hiring for a data science role')\n",
    "    else:\n",
    "        print('We are hiring for a ' + job_opening + '.')\n",
    "        \n",
    "print('\\nThank you for checking our job openings')"
   ]
  },
  {
   "cell_type": "code",
   "execution_count": null,
   "id": "263df28f",
   "metadata": {},
   "outputs": [],
   "source": []
  }
 ],
 "metadata": {
  "kernelspec": {
   "display_name": "Python 3",
   "language": "python",
   "name": "python3"
  },
  "language_info": {
   "codemirror_mode": {
    "name": "ipython",
    "version": 3
   },
   "file_extension": ".py",
   "mimetype": "text/x-python",
   "name": "python",
   "nbconvert_exporter": "python",
   "pygments_lexer": "ipython3",
   "version": "3.8.8"
  }
 },
 "nbformat": 4,
 "nbformat_minor": 5
}
